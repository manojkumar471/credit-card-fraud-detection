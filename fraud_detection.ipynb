{
 "cells": [
  {
   "cell_type": "code",
   "execution_count": null,
   "id": "2c250c11",
   "metadata": {},
   "outputs": [],
   "source": [
    "# Step 1: Import libraries\n",
    "import pandas as pd\n",
    "import numpy as np\n",
    "import matplotlib.pyplot as plt\n",
    "import seaborn as sns\n",
    "from sklearn.model_selection import train_test_split\n",
    "from sklearn.linear_model import LogisticRegression\n",
    "from sklearn.metrics import confusion_matrix, classification_report\n",
    "import time\n",
    "\n",
    "# Step 2: Load data (Assuming file is in same folder)\n",
    "df = pd.read_csv(\"creditcard.csv\")\n",
    "\n",
    "# Optional: Use only 10% data for speed\n",
    "df = df.sample(frac=0.1, random_state=42)\n",
    "\n",
    "# Step 3: Check class balance\n",
    "print(\"Class Balance:\")\n",
    "print(df[\"Class\"].value_counts())\n",
    "\n",
    "# Step 4: Train-Test Split\n",
    "X = df.drop(\"Class\", axis=1)\n",
    "y = df[\"Class\"]\n",
    "X_train, X_test, y_train, y_test = train_test_split(X, y, test_size=0.2, random_state=42)\n",
    "\n",
    "# Step 5: Train Logistic Regression\n",
    "model = LogisticRegression(max_iter=1000)\n",
    "\n",
    "start = time.time()\n",
    "model.fit(X_train, y_train)\n",
    "end = time.time()\n",
    "\n",
    "print(f\"\\n✅ Training Complete in {end - start:.2f} seconds\\n\")\n",
    "\n",
    "# Step 6: Predict and Evaluate\n",
    "y_pred = model.predict(X_test)\n",
    "\n",
    "print(\"📊 Confusion Matrix:\")\n",
    "print(confusion_matrix(y_test, y_pred))\n",
    "\n",
    "print(\"\\n📄 Classification Report:\")\n",
    "print(classification_report(y_test, y_pred))\n",
    "\n",
    "# Step 7: Visualize Class Distribution\n",
    "sns.countplot(x=\"Class\", data=df)\n",
    "plt.title(\"Fraud vs Non-Fraud Count\")\n",
    "plt.show()\n"
   ]
  },
  {
   "cell_type": "code",
   "execution_count": null,
   "id": "7d6d9f80",
   "metadata": {},
   "outputs": [],
   "source": []
  }
 ],
 "metadata": {
  "kernelspec": {
   "display_name": "Python 3",
   "language": "python",
   "name": "python3"
  },
  "language_info": {
   "codemirror_mode": {
    "name": "ipython",
    "version": 3
   },
   "file_extension": ".py",
   "mimetype": "text/x-python",
   "name": "python",
   "nbconvert_exporter": "python",
   "pygments_lexer": "ipython3",
   "version": "3.12.2"
  }
 },
 "nbformat": 4,
 "nbformat_minor": 5
}
